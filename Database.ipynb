{
 "cells": [
  {
   "cell_type": "code",
   "execution_count": 1,
   "metadata": {
    "ExecuteTime": {
     "end_time": "2020-09-04T17:56:57.304522Z",
     "start_time": "2020-09-04T17:56:56.571708Z"
    }
   },
   "outputs": [],
   "source": [
    "import os, sys, inspect\n",
    "import pandas as pd\n",
    "import numpy as np\n",
    "from datetime import date\n",
    "from collections import OrderedDict\n",
    "\n",
    "import sqlite3 as sq\n",
    "\n",
    "\n",
    "import matplotlib\n",
    "import matplotlib.pyplot as plt\n",
    "from IPython.display import display, Markdown, HTML, clear_output\n",
    "import ipywidgets as widgets\n",
    "from qgrid import show_grid"
   ]
  },
  {
   "cell_type": "code",
   "execution_count": 1,
   "metadata": {
    "ExecuteTime": {
     "end_time": "2020-09-04T17:56:57.324085Z",
     "start_time": "2020-09-04T17:56:57.306524Z"
    },
    "tags": []
   },
   "outputs": [
    {
     "output_type": "stream",
     "name": "stdout",
     "text": "Stored 'config' (dict)\n"
    }
   ],
   "source": [
    "config = dict(\n",
    "    host = \"hansken.db.elephantsql.com\",\n",
    "    port = 5432,\n",
    "    user = \"wxznjcvj\",\n",
    "    dbname = \"wxznjcvj\",\n",
    "    password = \"h9IRl7iLUHn7JayUX-A6QqPvjHw9IkSP\",\n",
    ")\n",
    "\n",
    "%store config"
   ]
  },
  {
   "cell_type": "code",
   "execution_count": 3,
   "metadata": {
    "ExecuteTime": {
     "end_time": "2020-09-04T17:56:57.332065Z",
     "start_time": "2020-09-04T17:56:57.326082Z"
    }
   },
   "outputs": [],
   "source": []
  },
  {
   "cell_type": "code",
   "execution_count": null,
   "metadata": {},
   "outputs": [],
   "source": []
  }
 ],
 "metadata": {
  "kernelspec": {
   "display_name": "customer_segmentation",
   "language": "python",
   "name": "customer_segmentation"
  },
  "language_info": {
   "codemirror_mode": {
    "name": "ipython",
    "version": 3
   },
   "file_extension": ".py",
   "mimetype": "text/x-python",
   "name": "python",
   "nbconvert_exporter": "python",
   "pygments_lexer": "ipython3",
   "version": "3.7.7-final"
  },
  "toc": {
   "base_numbering": 1,
   "nav_menu": {},
   "number_sections": true,
   "sideBar": true,
   "skip_h1_title": false,
   "title_cell": "Table of Contents",
   "title_sidebar": "Contents",
   "toc_cell": false,
   "toc_position": {},
   "toc_section_display": true,
   "toc_window_display": false
  }
 },
 "nbformat": 4,
 "nbformat_minor": 4
}