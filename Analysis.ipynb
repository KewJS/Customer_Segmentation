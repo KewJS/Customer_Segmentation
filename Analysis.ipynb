{
 "cells": [
  {
   "cell_type": "code",
   "execution_count": 1,
   "metadata": {
    "ExecuteTime": {
     "end_time": "2020-09-01T14:54:07.864533Z",
     "start_time": "2020-09-01T14:54:07.109765Z"
    }
   },
   "outputs": [],
   "source": [
    "import os\n",
    "import pandas as pd\n",
    "import numpy as np\n",
    "from collections import OrderedDict\n",
    "\n",
    "import matplotlib\n",
    "import matplotlib.pyplot as plt\n",
    "from IPython.display import display, Markdown, HTML, clear_output\n",
    "import ipywidgets as widgets\n",
    "from qgrid import show_grid"
   ]
  },
  {
   "cell_type": "code",
   "execution_count": 2,
   "metadata": {
    "ExecuteTime": {
     "end_time": "2020-09-01T14:54:07.879574Z",
     "start_time": "2020-09-01T14:54:07.866532Z"
    }
   },
   "outputs": [],
   "source": [
    "import src\n",
    "from src.analysis import Analysis"
   ]
  },
  {
   "cell_type": "code",
   "execution_count": 3,
   "metadata": {
    "ExecuteTime": {
     "end_time": "2020-09-01T14:54:07.886534Z",
     "start_time": "2020-09-01T14:54:07.882543Z"
    }
   },
   "outputs": [],
   "source": [
    "analysis = Analysis()"
   ]
  },
  {
   "cell_type": "code",
   "execution_count": 4,
   "metadata": {
    "ExecuteTime": {
     "end_time": "2020-09-01T14:54:07.979282Z",
     "start_time": "2020-09-01T14:54:07.888526Z"
    }
   },
   "outputs": [
    {
     "data": {
      "text/markdown": [
       "<h2>Customer Segmentation Analysis</h2>"
      ],
      "text/plain": [
       "<IPython.core.display.Markdown object>"
      ]
     },
     "metadata": {},
     "output_type": "display_data"
    },
    {
     "data": {
      "text/plain": [
       "[None, None, None, None, None, None]"
      ]
     },
     "execution_count": 4,
     "metadata": {},
     "output_type": "execute_result"
    }
   ],
   "source": [
    "display(Markdown('<h2>Customer Segmentation Analysis</h2>'))\n",
    "sections = [\"Orders\", \"Orders_Prior\", \"Products\", \"Departments\", \"Aisles\"]\n",
    "\n",
    "sub_sections = [\"Data Summary\", \"Missing Analysis\", \"Outlier Analysis\"]\n",
    "\n",
    "accordions = OrderedDict()\n",
    "accordions[\"Loading\"] = widgets.Accordion(children=[widgets.Output() for section in sections])\n",
    "[accordions[\"Loading\"].set_title(i, section) for i, section in enumerate(sections)]\n",
    "\n",
    "for section in sections:\n",
    "    accordions[section] = widgets.Accordion(children=[widgets.Output() for sub_section in sub_sections])\n",
    "    [accordions[section].set_title(i, sub_section) for i, sub_section in enumerate(sub_sections)]\n",
    "    \n",
    "widget_fields = widgets.Tab(children=[accordions[t] for t in accordions])\n",
    "[widget_fields.set_title(i, sub) for i, sub in enumerate(accordions.keys())]"
   ]
  },
  {
   "cell_type": "code",
   "execution_count": 5,
   "metadata": {
    "ExecuteTime": {
     "end_time": "2020-09-01T14:54:07.995241Z",
     "start_time": "2020-09-01T14:54:07.980280Z"
    },
    "scrolled": false
   },
   "outputs": [
    {
     "data": {
      "application/vnd.jupyter.widget-view+json": {
       "model_id": "9bd93f70b54743b4af6509e4b9ab6ca8",
       "version_major": 2,
       "version_minor": 0
      },
      "text/plain": [
       "Tab(children=(Accordion(children=(Output(), Output(), Output(), Output(), Output()), _titles={'0': 'Orders', '…"
      ]
     },
     "metadata": {},
     "output_type": "display_data"
    }
   ],
   "source": [
    "widget_fields"
   ]
  },
  {
   "cell_type": "code",
   "execution_count": 6,
   "metadata": {
    "ExecuteTime": {
     "end_time": "2020-09-01T14:54:09.506271Z",
     "start_time": "2020-09-01T14:54:07.997235Z"
    }
   },
   "outputs": [],
   "source": [
    "section = \"Orders\"\n",
    "\n",
    "with accordions[\"Loading\"].children[sections.index(section)]:\n",
    "    clear_output()\n",
    "    analysis.get_order()"
   ]
  },
  {
   "cell_type": "code",
   "execution_count": 7,
   "metadata": {
    "ExecuteTime": {
     "end_time": "2020-09-01T14:54:16.286690Z",
     "start_time": "2020-09-01T14:54:09.508292Z"
    }
   },
   "outputs": [],
   "source": [
    "section = \"Orders_Prior\"\n",
    "\n",
    "with accordions[\"Loading\"].children[sections.index(section)]:\n",
    "    clear_output()\n",
    "    analysis.get_order_prior()"
   ]
  },
  {
   "cell_type": "code",
   "execution_count": 8,
   "metadata": {
    "ExecuteTime": {
     "end_time": "2020-09-01T14:54:16.357501Z",
     "start_time": "2020-09-01T14:54:16.288686Z"
    }
   },
   "outputs": [],
   "source": [
    "section = \"Products\"\n",
    "\n",
    "with accordions[\"Loading\"].children[sections.index(section)]:\n",
    "    clear_output()\n",
    "    analysis.get_products()"
   ]
  },
  {
   "cell_type": "code",
   "execution_count": 9,
   "metadata": {
    "ExecuteTime": {
     "end_time": "2020-09-01T14:54:16.373483Z",
     "start_time": "2020-09-01T14:54:16.358499Z"
    }
   },
   "outputs": [],
   "source": [
    "section = \"Departments\"\n",
    "\n",
    "with accordions[\"Loading\"].children[sections.index(section)]:\n",
    "    clear_output()\n",
    "    analysis.get_departments()"
   ]
  },
  {
   "cell_type": "code",
   "execution_count": 10,
   "metadata": {
    "ExecuteTime": {
     "end_time": "2020-09-01T14:54:16.390413Z",
     "start_time": "2020-09-01T14:54:16.374455Z"
    }
   },
   "outputs": [],
   "source": [
    "section = \"Aisles\"\n",
    "\n",
    "with accordions[\"Loading\"].children[sections.index(section)]:\n",
    "    clear_output()\n",
    "    analysis.get_aisles()"
   ]
  },
  {
   "cell_type": "code",
   "execution_count": 11,
   "metadata": {
    "ExecuteTime": {
     "end_time": "2020-09-01T14:54:16.409363Z",
     "start_time": "2020-09-01T14:54:16.392409Z"
    }
   },
   "outputs": [],
   "source": [
    "section = \"Aisles\"\n",
    "\n",
    "with accordions[\"Loading\"].children[sections.index(section)]:\n",
    "    clear_output()\n",
    "    analysis.get_aisles()"
   ]
  },
  {
   "cell_type": "code",
   "execution_count": 12,
   "metadata": {
    "ExecuteTime": {
     "end_time": "2020-09-01T14:54:56.229523Z",
     "start_time": "2020-09-01T14:54:16.410360Z"
    }
   },
   "outputs": [
    {
     "name": "stdout",
     "output_type": "stream",
     "text": [
      "Reading in data ...\n",
      "  Loading order dataframe ...\n",
      "  Loading order prior dataframe ...\n",
      "  Loading products dataframe ...\n",
      "  Loading departments dataframe ...\n",
      "  Loading aisles dataframe ...\n",
      "  Merging dataframe ...\n",
      "    On Orders-Prior & Orders:\n",
      "    On Customer Orders & Products:\n",
      "    On Customer Orders & Aisle:\n",
      "    On Customer Orders & Departments:\n",
      "done.\n"
     ]
    }
   ],
   "source": [
    "analysis.get_data()"
   ]
  },
  {
   "cell_type": "code",
   "execution_count": null,
   "metadata": {
    "ExecuteTime": {
     "start_time": "2020-09-01T14:55:22.887Z"
    }
   },
   "outputs": [],
   "source": [
    "analysis.data['customer_data'].info()"
   ]
  },
  {
   "cell_type": "code",
   "execution_count": null,
   "metadata": {},
   "outputs": [],
   "source": []
  }
 ],
 "metadata": {
  "kernelspec": {
   "display_name": "customer_segmentation",
   "language": "python",
   "name": "customer_segmentation"
  },
  "language_info": {
   "codemirror_mode": {
    "name": "ipython",
    "version": 3
   },
   "file_extension": ".py",
   "mimetype": "text/x-python",
   "name": "python",
   "nbconvert_exporter": "python",
   "pygments_lexer": "ipython3",
   "version": "3.7.7"
  },
  "toc": {
   "base_numbering": 1,
   "nav_menu": {},
   "number_sections": true,
   "sideBar": true,
   "skip_h1_title": false,
   "title_cell": "Table of Contents",
   "title_sidebar": "Contents",
   "toc_cell": false,
   "toc_position": {},
   "toc_section_display": true,
   "toc_window_display": false
  }
 },
 "nbformat": 4,
 "nbformat_minor": 2
}
