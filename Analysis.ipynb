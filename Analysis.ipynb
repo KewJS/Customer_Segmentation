{
 "cells": [
  {
   "cell_type": "code",
   "execution_count": 2,
   "metadata": {
    "ExecuteTime": {
     "end_time": "2020-09-08T16:45:16.323433Z",
     "start_time": "2020-09-08T16:45:16.317676Z"
    }
   },
   "outputs": [
    {
     "data": {
      "text/html": [
       "\n",
       "<style>\n",
       "    div#notebook-container     {width: 80%;}\n",
       "    div#menubar-container      {width: 65%;}\n",
       "    div#maintoolbar-container  {width: 60%;}\n",
       "</style>\n"
      ],
      "text/plain": [
       "<IPython.core.display.HTML object>"
      ]
     },
     "metadata": {},
     "output_type": "display_data"
    }
   ],
   "source": [
    "import os, sys, inspect\n",
    "import pandas as pd\n",
    "import numpy as np\n",
    "from datetime import date\n",
    "from collections import OrderedDict\n",
    "\n",
    "import sqlite3\n",
    "import psycopg2\n",
    "from psycopg2 import Error\n",
    "\n",
    "import param\n",
    "import hvplot\n",
    "import hvplot.pandas\n",
    "import holoviews as hv\n",
    "from holoviews import opts\n",
    "import panel as pn\n",
    "\n",
    "import matplotlib\n",
    "import matplotlib.pyplot as plt\n",
    "from IPython.display import display, Markdown, HTML, clear_output, display_html\n",
    "import ipywidgets as widgets\n",
    "from qgrid import show_grid\n",
    "\n",
    "display(HTML(data=\"\"\"\n",
    "<style>\n",
    "    div#notebook-container     {width: 80%;}\n",
    "    div#menubar-container      {width: 65%;}\n",
    "    div#maintoolbar-container  {width: 60%;}\n",
    "</style>\n",
    "\"\"\"))"
   ]
  },
  {
   "cell_type": "code",
   "execution_count": 3,
   "metadata": {
    "ExecuteTime": {
     "end_time": "2020-09-08T16:45:18.027621Z",
     "start_time": "2020-09-08T16:45:18.020073Z"
    }
   },
   "outputs": [],
   "source": [
    "import src\n",
    "from src.analysis.processing import Analysis"
   ]
  },
  {
   "cell_type": "code",
   "execution_count": 4,
   "metadata": {
    "ExecuteTime": {
     "end_time": "2020-09-08T16:45:18.375344Z",
     "start_time": "2020-09-08T16:45:18.372352Z"
    }
   },
   "outputs": [],
   "source": [
    "analysis = Analysis()"
   ]
  },
  {
   "cell_type": "code",
   "execution_count": 13,
   "metadata": {
    "ExecuteTime": {
     "end_time": "2020-09-08T16:48:37.285461Z",
     "start_time": "2020-09-08T16:48:37.241795Z"
    }
   },
   "outputs": [
    {
     "data": {
      "text/markdown": [
       "<h2>Customer Segmentation Analysis</h2>"
      ],
      "text/plain": [
       "<IPython.core.display.Markdown object>"
      ]
     },
     "metadata": {},
     "output_type": "display_data"
    },
    {
     "data": {
      "text/plain": [
       "[None, None, None]"
      ]
     },
     "execution_count": 13,
     "metadata": {},
     "output_type": "execute_result"
    }
   ],
   "source": [
    "display(Markdown('<h2>Customer Segmentation Analysis</h2>'))\n",
    "sections = [\"Customer Data\"]\n",
    "analysis_section = [\"Description\"]\n",
    "\n",
    "sub_sections = [\"Data Summary\", \"Missing Analysis\", \"Outlier Analysis\", \"Statistical Study\"]\n",
    "\n",
    "accordions = OrderedDict()\n",
    "accordions[\"Loading\"] = widgets.Accordion(children=[widgets.Output() for section in sections])\n",
    "[accordions[\"Loading\"].set_title(i, section) for i, section in enumerate(sections)]\n",
    "\n",
    "accordions[\"Project Summary\"] = widgets.Accordion(children=[widgets.Output() for section in analysis_section])\n",
    "[accordions[\"Project Summary\"].set_title(i, section) for i, section in enumerate(analysis_section)]\n",
    "\n",
    "for section in sections:\n",
    "    accordions[section] = widgets.Accordion(children=[widgets.Output() for sub_section in sub_sections])\n",
    "    [accordions[section].set_title(i, sub_section) for i, sub_section in enumerate(sub_sections)]\n",
    "    \n",
    "widget_fields = widgets.Tab(children=[accordions[t] for t in accordions])\n",
    "[widget_fields.set_title(i, sub) for i, sub in enumerate(accordions.keys())]"
   ]
  },
  {
   "cell_type": "code",
   "execution_count": 14,
   "metadata": {
    "ExecuteTime": {
     "end_time": "2020-09-08T16:48:39.103121Z",
     "start_time": "2020-09-08T16:48:39.095073Z"
    },
    "scrolled": false
   },
   "outputs": [
    {
     "data": {
      "application/vnd.jupyter.widget-view+json": {
       "model_id": "689b991f5ad44b28a8ec62366bc92f0b",
       "version_major": 2,
       "version_minor": 0
      },
      "text/plain": [
       "Tab(children=(Accordion(children=(Output(),), _titles={'0': 'Customer Data'}), Accordion(children=(Output(),),…"
      ]
     },
     "metadata": {},
     "output_type": "display_data"
    }
   ],
   "source": [
    "widget_fields"
   ]
  },
  {
   "cell_type": "code",
   "execution_count": 17,
   "metadata": {
    "ExecuteTime": {
     "end_time": "2020-09-08T16:51:39.781684Z",
     "start_time": "2020-09-08T16:50:40.117107Z"
    }
   },
   "outputs": [],
   "source": [
    "section = \"Customer Data\"\n",
    "\n",
    "with accordions[\"Loading\"].children[sections.index(section)]:\n",
    "    clear_output()\n",
    "    display(Markdown(\"<h2> Initiating data loading ... </h2>\"))\n",
    "    analysis.get_data()\n",
    "    \n",
    "\n",
    "with accordions[\"Project Summary\"].children[sections.index(section)]:\n",
    "    clear_output()\n",
    "    display(Markdown(\"<h2> Kaggle Challenge - Instacart Customer Analysis & Segmentation </h2>\"))\n",
    "    display(Markdown(r'''<p align=\"center\">\n",
    "                         <img width=\"1300\" height=\"100\" src=\"https://miro.medium.com/max/1160/1*yf7Bk7LpZCH5wcIGSxBqjA.png\"></p>'''))\n",
    "    \n",
    "    \n",
    "    \n",
    "with accordions[section].children[0]:\n",
    "    clear_output()\n",
    "    display(Markdown(r'<h2> Overview of Data </h2>'))\n",
    "    display(analysis.grid_df_display([analysis.descriptive_data(analysis.data['customer_data'][analysis.vars(['Customer'])]),\n",
    "                                     analysis.data_type_analysis(analysis.data['customer_data'])]))\n",
    "    \n",
    "    customer_data = analysis.data[\"customer_data\"].head(10000)\n",
    "    table = analysis.holoview_table(df=customer_data, column=analysis.vars(['Customer']), width=1500, height=300)\n",
    "    display(pn.Row(\n",
    "        pn.Column(\"Dataframe of <code><b><font size='+2'>Insta-Cart Customer Data</font></b></code>\", table)\n",
    "    ))"
   ]
  },
  {
   "cell_type": "code",
   "execution_count": null,
   "metadata": {},
   "outputs": [],
   "source": []
  },
  {
   "cell_type": "code",
   "execution_count": null,
   "metadata": {},
   "outputs": [],
   "source": []
  },
  {
   "cell_type": "markdown",
   "metadata": {},
   "source": [
    "## SQL"
   ]
  },
  {
   "cell_type": "code",
   "execution_count": 9,
   "metadata": {
    "ExecuteTime": {
     "end_time": "2020-09-08T16:05:36.737605Z",
     "start_time": "2020-09-08T16:05:36.720093Z"
    }
   },
   "outputs": [
    {
     "name": "stdout",
     "output_type": "stream",
     "text": [
      "Stored 'config' (dict)\n"
     ]
    }
   ],
   "source": [
    "config = dict(\n",
    "    host = \"hansken.db.elephantsql.com\",\n",
    "    port = 5432,\n",
    "    user = \"wxznjcvj\",\n",
    "    dbname = \"wxznjcvj\",\n",
    "    password = \"h9IRl7iLUHn7JayUX-A6QqPvjHw9IkSP\",\n",
    ")\n",
    "\n",
    "%store config"
   ]
  },
  {
   "cell_type": "code",
   "execution_count": 10,
   "metadata": {
    "ExecuteTime": {
     "end_time": "2020-09-08T16:06:28.506975Z",
     "start_time": "2020-09-08T16:06:28.502984Z"
    }
   },
   "outputs": [
    {
     "data": {
      "text/plain": [
       "{'host': 'hansken.db.elephantsql.com',\n",
       " 'port': 5432,\n",
       " 'user': 'wxznjcvj',\n",
       " 'dbname': 'wxznjcvj',\n",
       " 'password': 'h9IRl7iLUHn7JayUX-A6QqPvjHw9IkSP'}"
      ]
     },
     "execution_count": 10,
     "metadata": {},
     "output_type": "execute_result"
    }
   ],
   "source": [
    "config"
   ]
  },
  {
   "cell_type": "code",
   "execution_count": 11,
   "metadata": {
    "ExecuteTime": {
     "end_time": "2020-09-08T16:06:38.320295Z",
     "start_time": "2020-09-08T16:06:36.248648Z"
    }
   },
   "outputs": [
    {
     "name": "stdout",
     "output_type": "stream",
     "text": [
      "{'user': 'wxznjcvj', 'dbname': 'wxznjcvj', 'host': 'hansken.db.elephantsql.com', 'port': '5432', 'tty': '', 'options': '', 'sslmode': 'prefer', 'sslcompression': '0', 'gssencmode': 'prefer', 'krbsrvname': 'postgres', 'target_session_attrs': 'any'} \n",
      "\n"
     ]
    }
   ],
   "source": [
    "conn = psycopg2.connect(**config)\n",
    "cursor = conn.cursor() # allows Python code to execute PostgreSQL command in a database session\n",
    "print(conn.get_dsn_parameters(),\"\\n\")"
   ]
  },
  {
   "cell_type": "code",
   "execution_count": 13,
   "metadata": {
    "ExecuteTime": {
     "end_time": "2020-09-08T16:07:43.626527Z",
     "start_time": "2020-09-08T16:07:43.613084Z"
    }
   },
   "outputs": [],
   "source": [
    "def execute(q, fetch_all=False):\n",
    "    \"\"\"Create an execute function with re-generates cursor if was previously\n",
    "    corrupted due to error\n",
    "    \"\"\"\n",
    "    global conn\n",
    "    global cursor\n",
    "    try:\n",
    "        cursor.execute(q)\n",
    "    except psycopg2.errors.InFailedSqlTransaction:\n",
    "        conn.commit()\n",
    "    if fetch_all:\n",
    "        return cursor.fetchall()\n",
    "    return cursor"
   ]
  },
  {
   "cell_type": "code",
   "execution_count": 14,
   "metadata": {
    "ExecuteTime": {
     "end_time": "2020-09-08T16:07:44.589771Z",
     "start_time": "2020-09-08T16:07:44.586703Z"
    }
   },
   "outputs": [],
   "source": [
    "customer_data = analysis.data[\"customer_data\"]"
   ]
  },
  {
   "cell_type": "code",
   "execution_count": 15,
   "metadata": {
    "ExecuteTime": {
     "end_time": "2020-09-08T16:07:54.473793Z",
     "start_time": "2020-09-08T16:07:53.808540Z"
    }
   },
   "outputs": [
    {
     "name": "stdout",
     "output_type": "stream",
     "text": [
      "Table created successfully in PostgreSQL ...\n"
     ]
    }
   ],
   "source": [
    "query = '''\n",
    "DROP TABLE IF EXISTS customer_data;\n",
    "\n",
    "CREATE TABLE customer_data(\n",
    "    id                    SERIAL PRIMARY KEY,\n",
    "    order_id              INT,\n",
    "    product_id            INT,\n",
    "    add_to_cart_order     INT,\n",
    "    reordered             INT,\n",
    "    user_id               INT,\n",
    "    eval_set              TEXT,\n",
    "    order_number          INT,\n",
    "    order_day_of_week     INT,\n",
    "    order_hour_of_day     INT,\n",
    "    days_since_last_order FLOAT,\n",
    "    product_name          TEXT,\n",
    "    aisle_id              INT,\n",
    "    aisle                 TEXT,\n",
    "    product_group_id      INT,\n",
    "    product_group         TEXT\n",
    ");\n",
    "'''\n",
    "\n",
    "execute(query)\n",
    "conn.commit()\n",
    "print(\"Table created successfully in PostgreSQL ...\")"
   ]
  },
  {
   "cell_type": "code",
   "execution_count": 16,
   "metadata": {
    "ExecuteTime": {
     "end_time": "2020-09-08T16:07:58.203140Z",
     "start_time": "2020-09-08T16:07:57.757214Z"
    }
   },
   "outputs": [
    {
     "name": "stdout",
     "output_type": "stream",
     "text": [
      "Selecting rows from mobile table using cursor.fetchall\n"
     ]
    }
   ],
   "source": [
    "postgreSQL_select_Query = \"select * from customer_data\"\n",
    "\n",
    "cursor.execute(postgreSQL_select_Query)\n",
    "print(\"Selecting rows from mobile table using cursor.fetchall\")\n",
    "customers_records = cursor.fetchall() "
   ]
  },
  {
   "cell_type": "code",
   "execution_count": null,
   "metadata": {
    "ExecuteTime": {
     "end_time": "2020-09-05T18:14:14.506438Z",
     "start_time": "2020-09-05T18:14:14.501449Z"
    }
   },
   "outputs": [],
   "source": [
    "print(\"Print each row and it's columns values\")\n",
    "for row in customers_records:\n",
    "    print(row)"
   ]
  },
  {
   "cell_type": "code",
   "execution_count": null,
   "metadata": {
    "ExecuteTime": {
     "end_time": "2020-09-05T18:06:57.171923Z",
     "start_time": "2020-09-05T18:06:41.368367Z"
    }
   },
   "outputs": [],
   "source": [
    "query = '''\n",
    "INSERT INTO customer_data (order_id, product_id, add_to_cart_order, reordered, user_id, eval_set, order_number, order_day_of_week, order_hour_of_day, days_since_last_order, product_name, aisle_id, aisle, product_group_id, product_group) VALUES (%s, %s, %s, %s, %s, %s, %s, %s, %s, %s, %s, %s, %s, %s, %s)\n",
    "'''\n",
    "\n",
    "customer_values = customer_data.values\n",
    "cursor.executemany(query, customer_values)\n",
    "conn.commit()"
   ]
  },
  {
   "cell_type": "code",
   "execution_count": null,
   "metadata": {
    "ExecuteTime": {
     "end_time": "2020-09-05T17:48:22.014513Z",
     "start_time": "2020-09-05T17:48:20.232137Z"
    }
   },
   "outputs": [],
   "source": [
    "query = '''\n",
    "SELECT * FROM customer_data\n",
    "'''\n",
    "execute(query)\n",
    "\n",
    "rows = cursor.fetchall()\n",
    "for row in rows:\n",
    "    print(row)"
   ]
  },
  {
   "cell_type": "code",
   "execution_count": null,
   "metadata": {},
   "outputs": [],
   "source": []
  },
  {
   "cell_type": "markdown",
   "metadata": {},
   "source": [
    "## Questions:\n",
    "### Resources:\n",
    "***\n",
    "1. Features Explanation: [Information on each features]('https://www.lexjansen.com/sesug/2019/SESUG2019_Paper-252_Final_PDF.pdf')"
   ]
  },
  {
   "cell_type": "code",
   "execution_count": null,
   "metadata": {},
   "outputs": [],
   "source": []
  }
 ],
 "metadata": {
  "kernelspec": {
   "display_name": "customer_segmentation",
   "language": "python",
   "name": "customer_segmentation"
  },
  "toc": {
   "base_numbering": 1,
   "nav_menu": {},
   "number_sections": true,
   "sideBar": true,
   "skip_h1_title": false,
   "title_cell": "Table of Contents",
   "title_sidebar": "Contents",
   "toc_cell": false,
   "toc_position": {},
   "toc_section_display": true,
   "toc_window_display": false
  },
  "varInspector": {
   "cols": {
    "lenName": 16,
    "lenType": 16,
    "lenVar": 40
   },
   "kernels_config": {
    "python": {
     "delete_cmd_postfix": "",
     "delete_cmd_prefix": "del ",
     "library": "var_list.py",
     "varRefreshCmd": "print(var_dic_list())"
    },
    "r": {
     "delete_cmd_postfix": ") ",
     "delete_cmd_prefix": "rm(",
     "library": "var_list.r",
     "varRefreshCmd": "cat(var_dic_list()) "
    }
   },
   "oldHeight": 266,
   "position": {
    "height": "40px",
    "left": "1516px",
    "right": "20px",
    "top": "126px",
    "width": "379px"
   },
   "types_to_exclude": [
    "module",
    "function",
    "builtin_function_or_method",
    "instance",
    "_Feature"
   ],
   "varInspector_section_display": "none",
   "window_display": false
  }
 },
 "nbformat": 4,
 "nbformat_minor": 2
}
