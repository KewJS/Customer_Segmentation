{
 "cells": [
  {
   "cell_type": "code",
   "execution_count": 1,
   "metadata": {
    "ExecuteTime": {
     "end_time": "2020-09-05T16:11:21.382167Z",
     "start_time": "2020-09-05T16:11:20.082700Z"
    }
   },
   "outputs": [],
   "source": [
    "import os, sys, inspect\n",
    "import pandas as pd\n",
    "import numpy as np\n",
    "from datetime import date\n",
    "from collections import OrderedDict\n",
    "\n",
    "import matplotlib\n",
    "import matplotlib.pyplot as plt\n",
    "from IPython.display import display, Markdown, HTML, clear_output\n",
    "import ipywidgets as widgets\n",
    "from qgrid import show_grid"
   ]
  },
  {
   "cell_type": "code",
   "execution_count": 2,
   "metadata": {
    "ExecuteTime": {
     "end_time": "2020-09-05T16:11:21.823094Z",
     "start_time": "2020-09-05T16:11:21.383141Z"
    }
   },
   "outputs": [],
   "source": [
    "import src\n",
    "from src.analysis.processing import Analysis"
   ]
  },
  {
   "cell_type": "code",
   "execution_count": 3,
   "metadata": {
    "ExecuteTime": {
     "end_time": "2020-09-05T16:11:21.827084Z",
     "start_time": "2020-09-05T16:11:21.824122Z"
    }
   },
   "outputs": [],
   "source": [
    "analysis = Analysis()"
   ]
  },
  {
   "cell_type": "code",
   "execution_count": 4,
   "metadata": {
    "ExecuteTime": {
     "end_time": "2020-09-05T16:11:21.863985Z",
     "start_time": "2020-09-05T16:11:21.828080Z"
    }
   },
   "outputs": [
    {
     "data": {
      "text/markdown": [
       "<h2>Customer Segmentation Analysis</h2>"
      ],
      "text/plain": [
       "<IPython.core.display.Markdown object>"
      ]
     },
     "metadata": {},
     "output_type": "display_data"
    },
    {
     "data": {
      "text/plain": [
       "[None, None]"
      ]
     },
     "execution_count": 4,
     "metadata": {},
     "output_type": "execute_result"
    }
   ],
   "source": [
    "display(Markdown('<h2>Customer Segmentation Analysis</h2>'))\n",
    "sections = [\"Customer Data\"]\n",
    "\n",
    "sub_sections = [\"Data Summary\", \"Missing Analysis\", \"Outlier Analysis\", \"Statistical Study\"]\n",
    "\n",
    "accordions = OrderedDict()\n",
    "accordions[\"Loading\"] = widgets.Accordion(children=[widgets.Output() for section in sections])\n",
    "[accordions[\"Loading\"].set_title(i, section) for i, section in enumerate(sections)]\n",
    "\n",
    "for section in sections:\n",
    "    accordions[section] = widgets.Accordion(children=[widgets.Output() for sub_section in sub_sections])\n",
    "    [accordions[section].set_title(i, sub_section) for i, sub_section in enumerate(sub_sections)]\n",
    "    \n",
    "widget_fields = widgets.Tab(children=[accordions[t] for t in accordions])\n",
    "[widget_fields.set_title(i, sub) for i, sub in enumerate(accordions.keys())]"
   ]
  },
  {
   "cell_type": "code",
   "execution_count": 5,
   "metadata": {
    "ExecuteTime": {
     "end_time": "2020-09-05T16:11:21.873967Z",
     "start_time": "2020-09-05T16:11:21.865982Z"
    },
    "scrolled": false
   },
   "outputs": [
    {
     "data": {
      "application/vnd.jupyter.widget-view+json": {
       "model_id": "cf5895f423a8421ab416d17000782205",
       "version_major": 2,
       "version_minor": 0
      },
      "text/plain": [
       "Tab(children=(Accordion(children=(Output(),), _titles={'0': 'Customer Data'}), Accordion(children=(Output(), O…"
      ]
     },
     "metadata": {},
     "output_type": "display_data"
    }
   ],
   "source": [
    "widget_fields"
   ]
  },
  {
   "cell_type": "code",
   "execution_count": null,
   "metadata": {
    "ExecuteTime": {
     "start_time": "2020-09-05T16:12:14.687Z"
    }
   },
   "outputs": [],
   "source": [
    "section = \"Customer Data\"\n",
    "\n",
    "with accordions[\"Loading\"].children[sections.index(section)]:\n",
    "    clear_output()\n",
    "    analysis.get_data()"
   ]
  },
  {
   "cell_type": "code",
   "execution_count": null,
   "metadata": {},
   "outputs": [],
   "source": []
  },
  {
   "cell_type": "code",
   "execution_count": null,
   "metadata": {},
   "outputs": [],
   "source": []
  },
  {
   "cell_type": "code",
   "execution_count": null,
   "metadata": {},
   "outputs": [],
   "source": [
    "fname = os.path.join(self.FILES[\"OUTPUT_PATH\"], \"{}{}.csv\".format(self.FILES[\"CUSTOMER_DATA\"], self.suffix))\n",
    "self.data[\"customer_data\"].to_csv(fname)"
   ]
  },
  {
   "cell_type": "code",
   "execution_count": null,
   "metadata": {},
   "outputs": [],
   "source": []
  },
  {
   "cell_type": "markdown",
   "metadata": {},
   "source": [
    "## Questions:\n",
    "### Resources:\n",
    "***\n",
    "1. Features Explanation: [Information on each features]('https://www.lexjansen.com/sesug/2019/SESUG2019_Paper-252_Final_PDF.pdf')"
   ]
  },
  {
   "cell_type": "code",
   "execution_count": null,
   "metadata": {},
   "outputs": [],
   "source": []
  }
 ],
 "metadata": {
  "kernelspec": {
   "display_name": "customer_segmentation",
   "language": "python",
   "name": "customer_segmentation"
  },
  "language_info": {
   "codemirror_mode": {
    "name": "ipython",
    "version": 3
   },
   "file_extension": ".py",
   "mimetype": "text/x-python",
   "name": "python",
   "nbconvert_exporter": "python",
   "pygments_lexer": "ipython3",
   "version": "3.7.7"
  },
  "toc": {
   "base_numbering": 1,
   "nav_menu": {},
   "number_sections": true,
   "sideBar": true,
   "skip_h1_title": false,
   "title_cell": "Table of Contents",
   "title_sidebar": "Contents",
   "toc_cell": false,
   "toc_position": {},
   "toc_section_display": true,
   "toc_window_display": false
  }
 },
 "nbformat": 4,
 "nbformat_minor": 2
}
